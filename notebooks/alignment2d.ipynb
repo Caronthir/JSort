{
 "cells": [
  {
   "cell_type": "markdown",
   "metadata": {},
   "source": [
    "# 2D Alignment"
   ]
  },
  {
   "cell_type": "code",
   "execution_count": null,
   "metadata": {
    "init_cell": true
   },
   "outputs": [],
   "source": [
    "using Revise\n",
    "push!(LOAD_PATH, \"$(homedir())/Development/\")\n",
    "using JSort\n",
    "using Plots\n",
    "using PyCall\n",
    "using StatsPlots\n",
    "import CSV\n",
    "using StatsBase\n",
    "using DataFrames"
   ]
  },
  {
   "cell_type": "code",
   "execution_count": null,
   "metadata": {
    "init_cell": true
   },
   "outputs": [],
   "source": [
    "# Load the preprocessed data\n",
    "#events = loadlabr(\"sirius\");\n",
    "#parameters = Parameters(\"si28.yaml\");\n",
    "\n",
    "# Sort the datafile\n",
    "#mede, medebf = makeeΔe(events, parameters);"
   ]
  },
  {
   "cell_type": "markdown",
   "metadata": {},
   "source": [
    "## Old OMatrix Method"
   ]
  },
  {
   "cell_type": "code",
   "execution_count": null,
   "metadata": {
    "init_cell": true
   },
   "outputs": [
    {
     "data": {
      "text/plain": [
       "log10transform (generic function with 1 method)"
      ]
     },
     "execution_count": null,
     "metadata": {},
     "output_type": "execute_result"
    }
   ],
   "source": [
    "function plotmat(matrix)\n",
    "    G = convert(Array{Float64, 2}, matrix)\n",
    "    log10transform!(G)\n",
    "    pl = heatmap(G', c=:viridis, yticks=([1:length(chns);], chns))\n",
    "end\n",
    "\n",
    "function plotstrip(strips)\n",
    "    G = hcat(strips...)\n",
    "    G = convert(Array{Float64, 2}, G)\n",
    "    log10transform!(G)\n",
    "    pl = heatmap(G', c=:viridis)\n",
    "end\n",
    "\n",
    "function log10transform!(G)\n",
    "    G[G .> 0] .= log10.(G[G .> 0])\n",
    "    G[G .≤ 0] .= NaN\n",
    "end\n",
    "\n",
    "function log10transform(V)\n",
    "    G = zeros(size(V))\n",
    "    G[V .> 0] .= log10.(G[V .> 0])\n",
    "    G[V .≤ 0] .= NaN\n",
    "    G\n",
    "end\n"
   ]
  },
  {
   "cell_type": "code",
   "execution_count": null,
   "metadata": {},
   "outputs": [],
   "source": [
    "heatmap(log10transform(medebf[1, 1].matrix'), color=:viridis)"
   ]
  },
  {
   "cell_type": "code",
   "execution_count": null,
   "metadata": {},
   "outputs": [],
   "source": [
    "function plotmat(matrix)\n",
    "    G = convert(Array{Float64, 2}, matrix)\n",
    "    log10transform!(G)\n",
    "    pl = heatmap(G', c=:viridis, yticks=([1:length(chns);], chns))\n",
    "end\n",
    "\n",
    "function plotstrip(strips)\n",
    "    G = hcat(strips...)\n",
    "    G = convert(Array{Float64, 2}, G)\n",
    "    log10transform!(G)\n",
    "    pl = heatmap(G', c=:viridis, size=(1000, 1000))\n",
    "end\n",
    "\n",
    "function log10transform!(G)\n",
    "    G[G .> 0] .= log10.(G[G .> 0])\n",
    "    G[G .≤ 0] .= NaN\n",
    "end\n",
    "\n",
    "function log10transform(V)\n",
    "    G = V[1:end]\n",
    "    G[G .> 0] .= log10.(G[G .> 0])\n",
    "    G[G .≤ 0] .= NaN\n",
    "    G\n",
    "en"
   ]
  },
  {
   "cell_type": "code",
   "execution_count": null,
   "metadata": {},
   "outputs": [],
   "source": [
    "@recipe f(::Type{OMatrix{Array{Int64, 2}}}, omatrix::OMatrix{Array{Int64, 2}}) = log10transform(omatrix.matrix')"
   ]
  },
  {
   "cell_type": "code",
   "execution_count": null,
   "metadata": {},
   "outputs": [],
   "source": [
    "plot(refmat.matrix, seriestype=:image)"
   ]
  },
  {
   "cell_type": "code",
   "execution_count": null,
   "metadata": {
    "init_cell": true
   },
   "outputs": [
    {
     "data": {
      "text/plain": [
       "plotbox (generic function with 2 methods)"
      ]
     },
     "execution_count": null,
     "metadata": {},
     "output_type": "execute_result"
    }
   ],
   "source": [
    "function plotbox(edges)\n",
    "    (startx, stopx), (starty, stopy) = edges\n",
    "    plot!([startx, stopx, stopx, startx, startx], \n",
    "        [starty, starty, stopy, stopy, starty], color=:steelblue, legend=false)\n",
    "end\n",
    "\n",
    "function plotbox(subarray::SubArray)\n",
    "    x, y = subarray.indices\n",
    "    plotbox(((first(x), last(x)), (first(y), last(y))))\n",
    "end"
   ]
  },
  {
   "cell_type": "code",
   "execution_count": null,
   "metadata": {},
   "outputs": [],
   "source": [
    "edges = boxbounds(medebf[1, 1].matrix, 8)\n",
    "subarrays = [arraybox(medebf[1, 1].matrix, edge) for edge in edges]\n",
    "plt = heatmap(medebf[1,1], color=:viridis)\n",
    "plotbox.(subarrays)\n",
    "plt"
   ]
  },
  {
   "cell_type": "code",
   "execution_count": null,
   "metadata": {},
   "outputs": [],
   "source": [
    "arrays = splitregions2d(medebf[1, 1].matrix, 20, limit=1000)\n",
    "plt = heatmap(medebf[1,1], color=:viridis)\n",
    "plotbox.(arrays)\n",
    "plt"
   ]
  },
  {
   "cell_type": "code",
   "execution_count": null,
   "metadata": {},
   "outputs": [],
   "source": [
    "heatmap(medebf[1, 1], color=:viridis)\n",
    "heatmap!(medebf[1, 2], color=:blues)\n",
    "plotbox(arrays[5])\n",
    "overlap = featureoverlap2d(arrays[5], medebf[1, 2].matrix, 10)\n",
    "@show overlap\n",
    "@show arrays[5].indices\n",
    "#heatmap(overlap)"
   ]
  },
  {
   "cell_type": "code",
   "execution_count": null,
   "metadata": {},
   "outputs": [],
   "source": [
    "refmat = medebf[1, 1]\n",
    "tarmat = medebf[1, 5]\n",
    "ref, tar = featurealign2d(refmat, tarmat, \n",
    "    numregions=10, width=100, limit=1000, searchwidth=10)\n",
    "arrays = splitregions2d(medebf[1, 1], 10, width=100, limit=1000);"
   ]
  },
  {
   "cell_type": "code",
   "execution_count": null,
   "metadata": {},
   "outputs": [],
   "source": [
    "plt = heatmap(xrange(refmat), yrange(refmat), refmat, color=:viridis)\n",
    "#plt = heatmap!(range(0, 1000, length=size(tarmat.matrix, 1)), yrange(tarmat), tarmat, color=:greens)\n",
    "plotbox.(arrays)\n",
    "for (r, t) in zip(ref, tar)\n",
    "    rx, ry = r\n",
    "    tx, ty = t\n",
    "    scatter!([rx, tx], [ry, ty], legend=false, markershape=:dtriangle, markerstrokewidth=0,\n",
    "    markersize=4)\n",
    "end\n",
    "plt"
   ]
  },
  {
   "cell_type": "code",
   "execution_count": null,
   "metadata": {},
   "outputs": [],
   "source": [
    "x, y = zip([([r[1], t[1]], [r[2], t[2]]) for (r, t) in zip(ref, tar)]...)\n",
    "refx, tarx = zip(x...) .|> collect .|> indextox(x, tarmat)\n",
    "refy, tary = zip(y...) .|> collect\n",
    "coeffx = leastsquares(tarx, refx; order=1)\n",
    "coeffy = leastsquares(tary, refy, order=1)\n",
    "\n",
    "@show coeffx\n",
    "@show coeffy\n",
    "@show trangex = xrange(tarmat)\n",
    "@show trangey = yrange(tarmat)\n",
    "@show ttrangex = coeffx[1] .+ trangex.*coeffx[2]\n",
    "@show ttrangey = coeffy[1] .+ trangey.*coeffy[2]\n"
   ]
  },
  {
   "cell_type": "code",
   "execution_count": null,
   "metadata": {},
   "outputs": [],
   "source": []
  },
  {
   "cell_type": "code",
   "execution_count": null,
   "metadata": {},
   "outputs": [],
   "source": [
    "bf14 = CSV.read(\"sirius/medeb1f4.csv\", header=[\"e\", \"Δe\"]);\n",
    "bf25 = CSV.read(\"sirius/medeb2f5.csv\", header=[\"e\", \"Δe\"]);"
   ]
  },
  {
   "cell_type": "code",
   "execution_count": null,
   "metadata": {},
   "outputs": [],
   "source": [
    "b = bf14[1:1000, :];\n",
    "b2 = bf25[1:1000, :];"
   ]
  },
  {
   "cell_type": "code",
   "execution_count": null,
   "metadata": {},
   "outputs": [],
   "source": [
    " Gadfly.plot(b, x=:e, y=:Δe, Geom.hexbin)"
   ]
  },
  {
   "cell_type": "code",
   "execution_count": null,
   "metadata": {},
   "outputs": [],
   "source": []
  },
  {
   "cell_type": "code",
   "execution_count": null,
   "metadata": {},
   "outputs": [],
   "source": [
    "@df bf25 Plots.plot(:e, :Δe, markerstrokewidth=0, seriestype=:histogram2d, nbins=400, \n",
    "                 color=:reds)\n",
    "@df bf14 Plots.plot!(:e, :Δe, markerstrokewidth=0, seriestype=:histogram2d, nbins=400,\n",
    "                color=:blues)"
   ]
  },
  {
   "cell_type": "markdown",
   "metadata": {},
   "source": [
    "## New Method"
   ]
  },
  {
   "cell_type": "markdown",
   "metadata": {},
   "source": [
    "Load the data"
   ]
  },
  {
   "cell_type": "code",
   "execution_count": null,
   "metadata": {},
   "outputs": [],
   "source": [
    "reference = CSV.read(\"sirius/medeb1f1.csv\", header=[\"e\", \"Δe\"]);\n",
    "target = CSV.read(\"sirius/medeb2f5.csv\", header=[\"e\", \"Δe\"]);"
   ]
  },
  {
   "cell_type": "markdown",
   "metadata": {},
   "source": [
    "Bin the data"
   ]
  },
  {
   "cell_type": "code",
   "execution_count": null,
   "metadata": {},
   "outputs": [],
   "source": [
    "function binner(edges)\n",
    "    start = first(edges)\n",
    "    stop = last(edges)\n",
    "    dx = step(edges)\n",
    "    maxi = length(edges)\n",
    "    function tobin(x)::Int64\n",
    "        if x < start\n",
    "            1\n",
    "        elseif x > stop\n",
    "            maxi\n",
    "        else\n",
    "            trunc(Int, (x - start)/dx) + 1  \n",
    "        end\n",
    "    end\n",
    "    tobin\n",
    "end\n",
    "\n",
    "function binhist(X, Y, xedges, yedges)\n",
    "    tobinx = binner(xedges)\n",
    "    tobiny = binner(yedges)\n",
    "    weights = zeros((length(xedges), length(yedges)))\n",
    "    for (x, y) in zip(X, Y)\n",
    "        i = tobinx(x)\n",
    "        j = tobiny(y)\n",
    "        weights[i, j] += 1\n",
    "    end\n",
    "    weights\n",
    "end"
   ]
  },
  {
   "cell_type": "code",
   "execution_count": null,
   "metadata": {},
   "outputs": [],
   "source": [
    "using PyCall\n",
    "pygui(true)\n",
    "using PyPlot"
   ]
  },
  {
   "cell_type": "code",
   "execution_count": null,
   "metadata": {},
   "outputs": [],
   "source": [
    "refhist = fit(Histogram, (reference[:e], reference[:Δe]), nbins=1000)\n",
    "tarmat = binhist(target[:e], target[:Δe], refhist.edges...);\n",
    "refmat = refhist.weights;"
   ]
  },
  {
   "cell_type": "code",
   "execution_count": null,
   "metadata": {},
   "outputs": [],
   "source": [
    "rpx, tpx, rpy, tpy = featurealign2d(refmats, tarmats, \n",
    "    numregions=15, width=nothing, limit=1000, searchwidth=40)\n",
    "\n",
    "@show coeffx = leastsquares(tpx, rpx; order=1)\n",
    "@show coeffy = leastsquares(tpy, rpy; order=1);\n",
    "\n",
    "# The coefficients are in index-basis. Need them in energy basis"
   ]
  },
  {
   "cell_type": "code",
   "execution_count": null,
   "metadata": {},
   "outputs": [],
   "source": [
    "e = @. coeffx[1] + coeffx[2]*target[:e]\n",
    "de = @. coeffy[1] + coeffy[2]*target[:Δe]\n",
    "\n",
    "calibtarget = DataFrame(e=e, Δe=de);\n",
    "calibmat = binhist(calibtarget[:e], calibtarget[:Δe], refhist.edges...);"
   ]
  },
  {
   "cell_type": "code",
   "execution_count": null,
   "metadata": {},
   "outputs": [],
   "source": [
    "fig, ax = PyPlot.subplots(nrows=2)\n",
    "\n",
    "for mat in (tarmat, refmat, calibmat)\n",
    "    y = sum(mat, dims=1)'\n",
    "    x = 1:length(y)\n",
    "    ax[1].step(x, y)\n",
    "    y = sum(mat, dims=2)\n",
    "    x = 1:length(y)\n",
    "    ax[2].step(x, y)\n",
    "end\n",
    "ax[1].set_yscale(\"log\")\n",
    "ax[2].set_yscale(\"log\")"
   ]
  },
  {
   "cell_type": "code",
   "execution_count": null,
   "metadata": {},
   "outputs": [],
   "source": [
    "PyPlot.plot(target[:e], target[:Δe], \".\", markersize=1, alpha=0.9)\n",
    "PyPlot.plot(reference[:e], reference[:Δe], \".\", markersize=1, alpha=0.9)\n",
    "PyPlot.plot(calibtarget[:e], calibtarget[:Δe], \".\", markersize=1, alpha=0.9)"
   ]
  },
  {
   "cell_type": "code",
   "execution_count": null,
   "metadata": {},
   "outputs": [],
   "source": [
    "PyPlot.pcolormesh(refmat', norm=PyPlot.matplotlib.colors.LogNorm(),\n",
    "                  cmap=\"Reds\")\n",
    "PyPlot.pcolormesh(tarmat', norm=PyPlot.matplotlib.colors.LogNorm(),\n",
    "                  cmap=\"Blues\")"
   ]
  },
  {
   "cell_type": "code",
   "execution_count": null,
   "metadata": {},
   "outputs": [],
   "source": [
    "refmats = ndimage.gaussian_filter(refmat, sigma=3)\n",
    "tarmats = ndimage.median_filter(tarmat, 11)\n",
    "PyPlot.pcolormesh(refmats', norm=PyPlot.matplotlib.colors.LogNorm(),\n",
    "                  cmap=\"Reds\")\n",
    "PyPlot.pcolormesh(tarmats', norm=PyPlot.matplotlib.colors.LogNorm(),\n",
    "                  cmap=\"Blues\")"
   ]
  },
  {
   "cell_type": "code",
   "execution_count": null,
   "metadata": {},
   "outputs": [],
   "source": [
    "Plots.plot()\n",
    "@df reference Plots.plot(:e, :Δe, markerstrokewidth=0, seriestype=:histogram2d, nbins=1000, \n",
    "                 color=:reds)\n",
    "@df target Plots.plot!(:e, :Δe, markerstrokewidth=0, seriestype=:histogram2d, nbins=1000,\n",
    "                color=:black)\n",
    "@df calibtarget Plots.plot!(:e, :Δe, markerstrokewidth=0, seriestype=:histogram2d, nbins=1000,\n",
    "                color=:greens)"
   ]
  },
  {
   "cell_type": "code",
   "execution_count": null,
   "metadata": {},
   "outputs": [],
   "source": [
    "plt = @df reference Plots.plot(:e, :Δe, markerstrokewidth=0, seriestype=:histogram2d, nbins=1000)\n",
    "\n",
    "arrays = splitregions2d(refhist.weights, 15, width=nothing, limit=1000);\n",
    "for array in arrays\n",
    "    x, y = array.indices\n",
    "    x = indextoenergy(x, refhist.edges[1])\n",
    "    y = indextoenergy(y, refhist.edges[2])\n",
    "    plotbox(((first(x), last(x)), (first(y), last(y))))\n",
    "    plt = plotbox(array)\n",
    "end\n",
    "display(plt)"
   ]
  },
  {
   "cell_type": "code",
   "execution_count": null,
   "metadata": {},
   "outputs": [],
   "source": [
    "ndimage = pyimport(\"scipy.ndimage\")\n",
    "\n",
    "#refmat = ndimage.gaussian_filter(refhist.weights, sigma=2)\n",
    "#tarmat = ndimage.gaussian_filter(tarhist.weights, sigma=2)\n",
    "\n",
    "arrays = splitregions2d(refmat, 15, width=nothing, limit=1000);\n",
    "feature = arrays[length(arrays)-7]\n",
    "overlap = featureoverlap2d(feature, tarmat, 40)\n",
    "i, j = Tuple(argmin(overlap))\n",
    "plot(log10.(overlap'), seriestype=:contour, alpha=0.9)\n",
    "scatter!([i, i], [j, j])\n",
    "#rpx, tpx, rpy, tpy = featurealign2d(refmat, tarmat, \n",
    "#    numregions=15, width=nothing, limit=1000, searchwidth=40)"
   ]
  },
  {
   "cell_type": "code",
   "execution_count": null,
   "metadata": {},
   "outputs": [],
   "source": [
    "plt = heatmap(log10transform(refmat'), color=:viridis, size=(800, 800))\n",
    "arrays = splitregions2d(refmat, 15, width=nothing, limit=1000);\n",
    "plt = heatmap!(log10transform(tarmat'), color=:plasma)\n",
    "plotbox.(arrays)\n",
    "for (rx, tx, ry, ty) in zip(rpx, tpx, rpy, tpy)\n",
    "    scatter!([rx, tx], [ry, ty], legend=false, markershape=:dtriangle, markerstrokewidth=0,\n",
    "    markersize=4)\n",
    "end\n",
    "plt"
   ]
  },
  {
   "cell_type": "code",
   "execution_count": null,
   "metadata": {},
   "outputs": [],
   "source": [
    "plt = heatmap(log10transform(refhist.weights'), color=:viridis, size=(800, 800))\n",
    "arrays = splitregions2d(refhist.weights, 15, width=nothing, limit=1000);\n",
    "plt = heatmap!(log10transform(tarhist.weights'), color=:greens)\n",
    "plotbox.(arrays)\n",
    "for (rx, tx, ry, ty) in zip(rpx, tpx, rpy, tpy)\n",
    "    scatter!([rx, tx], [ry, ty], legend=false, markershape=:dtriangle, markerstrokewidth=0,\n",
    "    markersize=4)\n",
    "end\n",
    "plt"
   ]
  },
  {
   "cell_type": "code",
   "execution_count": null,
   "metadata": {},
   "outputs": [],
   "source": [
    "X = tpx\n",
    "Y = rpx\n",
    "x = range(min(X...), max(X...), length=100)\n",
    "y = @. coeffy[1] + coeffy[2]*x\n",
    "scatter(X, Y, legend=false)\n",
    "plot!(x, y)"
   ]
  },
  {
   "cell_type": "markdown",
   "metadata": {},
   "source": [
    "## Align by projection"
   ]
  },
  {
   "cell_type": "code",
   "execution_count": null,
   "metadata": {},
   "outputs": [],
   "source": [
    "Xref = vec(sum(refmat, dims=2))\n",
    "Yref = vec(sum(refmat, dims=1))\n",
    "Xtar = vec(trunc.(Int, sum(tarmat, dims=2)))\n",
    "Ytar = vec(trunc.(Int, sum(tarmat, dims=1)))\n",
    "coeff, Xaligned = alignspectra([Yref, Ytar], lowregion=50:600,\n",
    "    lownumregions=5, lowsearchwidth=100, order=1)\n",
    "@show coeff\n",
    "\n",
    "plot(Yref)\n",
    "plot!(Ytar)\n",
    "plot!(Xaligned)"
   ]
  },
  {
   "cell_type": "markdown",
   "metadata": {},
   "source": [
    "## Notes\n",
    "Method is doomed to fail for low data regions. Reject region if number of counts\n",
    "is less than N.\n",
    "\n",
    "Use subarrays for regions.\n",
    "\n",
    "I think I must apply smoothing to get anything meaningful\n",
    "\n",
    "Use large regions or small regions? Trade-off between amount of features and neglibability of the higher order terms.\n",
    "\n",
    "Gainshifting on the indices is impossible. Must instead gainshift on the axis and plot accordingly.\n",
    "\n",
    "Heatmap is a pure pain, it doesn't take care of the ranges correctly. Use matplotlib pcolormesh? I think so.\n",
    "Need to take care of all the bookkeeping with index-to-value mapping and the sort when\n",
    "\"gainshifting\" the axis.\n",
    "\n",
    "It is incredibly frustrating to use, save and load OMatrices. Would it be better to instead save the raw events as a long csv of to columns with the E and $\\Delta$E? \n",
    " - YES! Wonderful idea. Everything is a thousand times easier now.\n",
    "  - ~~[ ] Create a plotting recipe for OMatrix~~\n",
    "  - ~~[ ] Create a gainshift for OMatrix~~\n",
    "  - Bin the dataframe-data into sizable histograms\n",
    "  - Featurefit\n",
    "  - Calibrate the raw data\n",
    "  - Compare\n",
    "  - [ ] Fix finding of minimum\n",
    "  - [ ] Try smoothing\n",
    "  - Coeffx == coeffy??\n",
    "  - Idiot! I must use the same binning when binning the data!\n",
    "  - Feature align on the summed axes instead?"
   ]
  },
  {
   "cell_type": "code",
   "execution_count": null,
   "metadata": {},
   "outputs": [],
   "source": []
  },
  {
   "cell_type": "code",
   "execution_count": null,
   "metadata": {},
   "outputs": [],
   "source": []
  }
 ],
 "metadata": {
  "@webio": {
   "lastCommId": null,
   "lastKernelId": null
  },
  "kernelspec": {
   "display_name": "Julia 1.2.0",
   "language": "julia",
   "name": "julia-1.2"
  },
  "language_info": {
   "file_extension": ".jl",
   "mimetype": "application/julia",
   "name": "julia",
   "version": "1.2.0"
  },
  "varInspector": {
   "cols": {
    "lenName": 16,
    "lenType": 16,
    "lenVar": 40
   },
   "kernels_config": {
    "python": {
     "delete_cmd_postfix": "",
     "delete_cmd_prefix": "del ",
     "library": "var_list.py",
     "varRefreshCmd": "print(var_dic_list())"
    },
    "r": {
     "delete_cmd_postfix": ") ",
     "delete_cmd_prefix": "rm(",
     "library": "var_list.r",
     "varRefreshCmd": "cat(var_dic_list()) "
    }
   },
   "types_to_exclude": [
    "module",
    "function",
    "builtin_function_or_method",
    "instance",
    "_Feature"
   ],
   "window_display": false
  }
 },
 "nbformat": 4,
 "nbformat_minor": 2
}
