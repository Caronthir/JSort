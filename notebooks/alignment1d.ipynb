{
 "cells": [
  {
   "cell_type": "markdown",
   "metadata": {},
   "source": [
    "# Energy calibration"
   ]
  },
  {
   "cell_type": "code",
   "execution_count": null,
   "metadata": {},
   "outputs": [],
   "source": [
    "using Revise\n",
    "push!(LOAD_PATH, \"$(homedir())/Development/\")\n",
    "using JSort\n",
    "using Plots\n",
    "using PyCall\n",
    "\n",
    "function plotmat(matrix)\n",
    "    G = convert(Array{Float64, 2}, matrix)\n",
    "    log10transform!(G)\n",
    "    pl = heatmap(G', c=:viridis, yticks=([1:length(chns);], chns))\n",
    "end\n",
    "\n",
    "function plotstrip(strips)\n",
    "    G = hcat(strips...)\n",
    "    G = convert(Array{Float64, 2}, G)\n",
    "    log10transform!(G)\n",
    "    pl = heatmap(G', c=:viridis)\n",
    "end\n",
    "\n",
    "function log10transform!(G)\n",
    "    G[G .> 0] .= log10.(G[G .> 0])\n",
    "    G[G .≤ 0] .= NaN\n",
    "end\n",
    "\n",
    "function log10transform(V)\n",
    "    G = V[1:end]\n",
    "    G[G .> 0] .= log10.(G[G .> 0])\n",
    "    G[G .≤ 0] .= NaN\n",
    "    G\n",
    "end"
   ]
  },
  {
   "cell_type": "code",
   "execution_count": null,
   "metadata": {},
   "outputs": [],
   "source": [
    "# Load the preprocessed data\n",
    "events = loadlabr(\"sirius\");\n",
    "parameters = Parameters(\"si28.yaml\");\n",
    "\n",
    "# Sort the datafile\n",
    "ge, gt = makelabr(events, parameters);\n",
    "mat = copy(ge.matrix);\n",
    "\n",
    "# Find the good channels\n",
    "chns = goodchannels(mat);\n",
    "G = mat[:, chns];\n",
    "M = [G[:, i] for i in 1:size(G, 2)];\n",
    "pop!(M);"
   ]
  },
  {
   "cell_type": "code",
   "execution_count": null,
   "metadata": {},
   "outputs": [],
   "source": [
    "plotstrip(M)"
   ]
  },
  {
   "cell_type": "code",
   "execution_count": null,
   "metadata": {},
   "outputs": [],
   "source": [
    "signal = pyimport(\"scipy.signal\")\n",
    "smoother(x) = signal.savgol_filter(x, 51, 4)\n",
    "coefficients, alignedspectra = alignspectra(M, lowregion=3:1400, highregion=1350:1800,\n",
    "                                            highsmoother=smoother)\n",
    "coefficients, alignedspectra = alignspectra(alignedspectra, lowregion=3:1400, \n",
    "                                            highregion=1350:1800, lowsearchwidth=10,\n",
    "                                            highsearchwidth = 10, lownumregions=15,\n",
    "                                            highsmoother=smoother)\n",
    "\n",
    "plotstrip(alignedspectra)"
   ]
  },
  {
   "cell_type": "code",
   "execution_count": null,
   "metadata": {},
   "outputs": [],
   "source": [
    "total = sum(alignedspectra)\n",
    "plt = plot(xlim=(1500, 2000), ylim=(0, 100))\n",
    "for spectrum in alignedspectra\n",
    "    plt = plot!(spectrum)\n",
    "end\n",
    "display(plt)\n",
    "plot(total, scale=:symlog)"
   ]
  },
  {
   "cell_type": "code",
   "execution_count": null,
   "metadata": {},
   "outputs": [],
   "source": []
  },
  {
   "cell_type": "code",
   "execution_count": null,
   "metadata": {},
   "outputs": [],
   "source": [
    "using DataFrames\n",
    "import CSV"
   ]
  },
  {
   "cell_type": "code",
   "execution_count": null,
   "metadata": {},
   "outputs": [],
   "source": [
    "df = DataFrame(total=total)\n",
    "for i in eachindex(alignedspectra)\n",
    "    df[!, Symbol(i)] = alignedspectra[i]\n",
    "end"
   ]
  },
  {
   "cell_type": "code",
   "execution_count": null,
   "metadata": {},
   "outputs": [],
   "source": []
  }
 ],
 "metadata": {
  "kernelspec": {
   "display_name": "Julia 1.2.0",
   "language": "julia",
   "name": "julia-1.2"
  },
  "language_info": {
   "file_extension": ".jl",
   "mimetype": "application/julia",
   "name": "julia",
   "version": "1.2.0"
  },
  "varInspector": {
   "cols": {
    "lenName": 16,
    "lenType": 16,
    "lenVar": 40
   },
   "kernels_config": {
    "python": {
     "delete_cmd_postfix": "",
     "delete_cmd_prefix": "del ",
     "library": "var_list.py",
     "varRefreshCmd": "print(var_dic_list())"
    },
    "r": {
     "delete_cmd_postfix": ") ",
     "delete_cmd_prefix": "rm(",
     "library": "var_list.r",
     "varRefreshCmd": "cat(var_dic_list()) "
    }
   },
   "types_to_exclude": [
    "module",
    "function",
    "builtin_function_or_method",
    "instance",
    "_Feature"
   ],
   "window_display": false
  }
 },
 "nbformat": 4,
 "nbformat_minor": 2
}
