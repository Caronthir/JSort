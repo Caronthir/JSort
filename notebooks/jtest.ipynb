{
 "cells": [
  {
   "cell_type": "code",
   "execution_count": null,
   "metadata": {},
   "outputs": [],
   "source": [
    "using Distributed\n",
    "using Revise\n",
    "parallel = false\n",
    "push!(LOAD_PATH, \"$(homedir())/Development/\")\n",
    "if parallel\n",
    "    addprocs(4)\n",
    "    @everywhere push!(LOAD_PATH, \"$(homedir())/Development/\")\n",
    "    @everywhere using JSort\n",
    "else\n",
    "    using JSort\n",
    "end"
   ]
  },
  {
   "cell_type": "code",
   "execution_count": null,
   "metadata": {},
   "outputs": [],
   "source": [
    "sortfile(\"si28.yaml\")"
   ]
  },
  {
   "cell_type": "markdown",
   "metadata": {},
   "source": [
    "# Plot the quality of the $^{28}Si$ data file"
   ]
  },
  {
   "cell_type": "code",
   "execution_count": null,
   "metadata": {},
   "outputs": [],
   "source": [
    "using Plots"
   ]
  },
  {
   "cell_type": "code",
   "execution_count": null,
   "metadata": {},
   "outputs": [],
   "source": [
    "data = read(\"quality.dat\") |> x -> reinterpret(Int8, x);"
   ]
  },
  {
   "cell_type": "code",
   "execution_count": null,
   "metadata": {},
   "outputs": [],
   "source": [
    "function findsquare(N)\n",
    "    i = 0\n",
    "    while i^2 < N\n",
    "        i += 1\n",
    "    end\n",
    "    return i\n",
    "end\n",
    "\n",
    "#n = findsquare(length(data))\n",
    "#n = 100\n",
    "#sdata = zeros(Int8, (n, n)) .- Int8(2)\n",
    "#m = 20000\n",
    "#sdata[1:n^2] = data[m:m+n^2-1];"
   ]
  },
  {
   "cell_type": "code",
   "execution_count": null,
   "metadata": {},
   "outputs": [],
   "source": [
    "n = 150\n",
    "m = 20000\n",
    "heatmap(1:n, 1:n, data[m:m+n^2-1])"
   ]
  },
  {
   "cell_type": "markdown",
   "metadata": {},
   "source": [
    "# Alignment"
   ]
  },
  {
   "cell_type": "code",
   "execution_count": null,
   "metadata": {
    "init_cell": true
   },
   "outputs": [],
   "source": [
    "using Revise\n",
    "push!(LOAD_PATH, \"$(homedir())/Development/\")\n",
    "using JSort\n",
    "using Plots\n",
    "using DSP"
   ]
  },
  {
   "cell_type": "code",
   "execution_count": null,
   "metadata": {},
   "outputs": [],
   "source": [
    "events = loadlabr(\"sirius\");\n",
    "parameters = Parameters(\"si28.yaml\");"
   ]
  },
  {
   "cell_type": "code",
   "execution_count": null,
   "metadata": {},
   "outputs": [],
   "source": [
    "ge, gt = makelabr(events, parameters);"
   ]
  },
  {
   "cell_type": "code",
   "execution_count": null,
   "metadata": {},
   "outputs": [],
   "source": [
    "mat = copy(ge.matrix);\n",
    "chns = goodchannels(mat);\n",
    "G = mat[:, chns];\n",
    "M = [G[:, i] for i in 1:size(G, 2)];"
   ]
  },
  {
   "cell_type": "code",
   "execution_count": null,
   "metadata": {},
   "outputs": [],
   "source": [
    "function plotmat(matrix)\n",
    "    G = convert(Array{Float64, 2}, matrix)\n",
    "    log10transform!(G)\n",
    "    pl = heatmap(G', c=:viridis, yticks=([1:length(chns);], chns))\n",
    "end\n",
    "\n",
    "function log10transform!(G)\n",
    "    G[G .> 0] .= log10.(G[G .> 0])\n",
    "    G[G .≤ 0] .= NaN\n",
    "end\n",
    "\n",
    "function plotstrips(g, I)\n",
    "    G = convert(Array{Float64, 2}, g)\n",
    "    log10transform!(G)\n",
    "    pl = heatmap(G', c=:viridis, yticks=([1:length(I);], I))#, c=:viridis, yticks=([1,2], [i,j]))\n",
    "    #pl = heatmap!(Y, c=:viridis)\n",
    "end"
   ]
  },
  {
   "cell_type": "code",
   "execution_count": null,
   "metadata": {},
   "outputs": [],
   "source": [
    "plotmat(G)"
   ]
  },
  {
   "cell_type": "code",
   "execution_count": null,
   "metadata": {},
   "outputs": [],
   "source": [
    "G = mat[:, chns]\n",
    "pl = plotmat(G)\n",
    "\n",
    "for (i, chn) in enumerate(chns)\n",
    "    numpeaks = 3\n",
    "    peaks = findpeaks(G[:, i], 100:lastindex(G[:, i]), numpeaks=numpeaks)\n",
    "    pl = scatter!(peaks, repeat([i,], numpeaks), markershape=:dtriangle, markercolor=:red,\n",
    "    markerstrokewidth=0)\n",
    "end\n",
    "pl"
   ]
  },
  {
   "cell_type": "code",
   "execution_count": null,
   "metadata": {},
   "outputs": [],
   "source": [
    "ref = 1\n",
    "M = [G[:, i] for i in 1:size(G, 2)]\n",
    "# Note: Use View to change G inline\n",
    "numpeaks = 3\n",
    "for (i, chn) in enumerate(chns)\n",
    "    ref == i && continue\n",
    "    shift, gain = linearalign(M[i], M[ref], 100:lastindex(M[ref]), numpeaks=numpeaks)\n",
    "    @show i, chn, shift, gain\n",
    "    gainshift!(M[i], shift, gain);\n",
    "end"
   ]
  },
  {
   "cell_type": "code",
   "execution_count": null,
   "metadata": {},
   "outputs": [],
   "source": [
    "plotmat(hcat(M...))"
   ]
  },
  {
   "cell_type": "code",
   "execution_count": null,
   "metadata": {},
   "outputs": [],
   "source": [
    "residuals = (M[1] .- M[2]).^2 ./(M[1]).^2\n",
    "scatter(residuals[isfinite.(residuals)], markerstrokewidth=0, markersize=1)"
   ]
  },
  {
   "cell_type": "code",
   "execution_count": null,
   "metadata": {},
   "outputs": [],
   "source": [
    "using Optim"
   ]
  },
  {
   "cell_type": "code",
   "execution_count": null,
   "metadata": {},
   "outputs": [],
   "source": [
    "A = copy(M[ref])\n",
    "B = copy(M[3])\n",
    "C = signal.savgol_filter(A, 51, 3)\n",
    "D = signal.savgol_filter(B, 51, 3)\n",
    "plot(A, alpha=0.2)\n",
    "plot!(B, alpha=0.2)\n",
    "plot!(C)\n",
    "\n",
    "plot!(D)"
   ]
  },
  {
   "cell_type": "code",
   "execution_count": null,
   "metadata": {},
   "outputs": [],
   "source": [
    "#NOTE: The smoothing create negative bins, which are invalid for creating random numbers in gainshift\n",
    "roi = [500:2000;]\n",
    "C = round.(Int, C)\n",
    "C[C .< 0] .= 0\n",
    "D = round.(Int, D)\n",
    "D[D .< 0] .= 0\n",
    "plot(A[roi], alpha=0.2)\n",
    "plot!(B[roi], alpha=0.2)\n",
    "plot!(C[roi])\n",
    "plot!(D[roi])\n",
    "X, Y = C[roi], D[roi];"
   ]
  },
  {
   "cell_type": "code",
   "execution_count": null,
   "metadata": {},
   "outputs": [],
   "source": [
    "function χ²(target, ref)\n",
    "    S = @. (ref-target)^2/ref^2\n",
    "    sum(S[isfinite.(S)])\n",
    "end\n",
    "\n",
    "#const P1 = [10_000 100 1]\n",
    "lower = [-150.0 0.92 -1e-4]\n",
    "upper = [150.0 1.08 1e-4]\n",
    "\n",
    "function errfn(x)\n",
    "    #@. x *= P1\n",
    "    #@show x\n",
    "    #if !all(lower .<= x .<= upper)\n",
    "    #    return 1e9\n",
    "    #end\n",
    "    Z = signal.savgol_filter(gainshift(Y, x...), 51, 3)\n",
    "    χ²(Z, X)\n",
    "end\n",
    "\n",
    "\n",
    "x₀ = [0.0 1.0 0.0] #./ P1\n",
    "results = optimize(errfn, x₀, method=NelderMead())\n"
   ]
  },
  {
   "cell_type": "code",
   "execution_count": null,
   "metadata": {},
   "outputs": [],
   "source": [
    "@show Optim.minimizer(results)\n",
    "Z =signal.savgol_filter(gainshift(Y, 0, 1.0589, 3e-4), 51, 3) \n",
    "V = signal.savgol_filter(gainshift(Y, Optim.minimizer(results)...), 51, 3)\n",
    "plot(X)\n",
    "plot!(Y)\n",
    "plt = plot!(Z)\n",
    "plt = plot!(V)\n",
    "@show χ²(Y, X)\n",
    "@show χ²(Z, X)\n",
    "@show χ²(V, X)\n",
    "plt"
   ]
  },
  {
   "cell_type": "code",
   "execution_count": null,
   "metadata": {},
   "outputs": [],
   "source": [
    "plot(A)\n",
    "plot!(gainshift(B, Optim.minimizer(results)...))"
   ]
  },
  {
   "cell_type": "code",
   "execution_count": null,
   "metadata": {},
   "outputs": [],
   "source": [
    "points = localalign(M[2], M[1], [150:1500;])\n",
    "\n",
    "plt = plotmat(G[:, 1:2])\n",
    "@show points\n",
    "for _points in points\n",
    "    plt = scatter!(_points, [1,2],markershape=:dtriangle, markercolor=:red, markerstrokewidth=0)\n",
    "end\n",
    "plt"
   ]
  },
  {
   "cell_type": "markdown",
   "metadata": {},
   "source": [
    "# Results\n",
    "The minimization is very finicky to get right. Might be a good idea to skip the\n",
    "initial minimization and instead do the local feature minimization instead.\n",
    "Might have to repeat the local minimization several times to get enough points\n",
    "for a good fit. That the spectrum is not minimized before might lead to areas where\n",
    "the spectra are so shifted that they can not be aligend properly, so areas with abnormaly large\n",
    "$\\chi^2$ must be excluded."
   ]
  },
  {
   "cell_type": "markdown",
   "metadata": {},
   "source": [
    "# Residuals\n",
    "Measure the residuals in the peak alignment. This is stupid. I need a lot more points"
   ]
  },
  {
   "cell_type": "code",
   "execution_count": null,
   "metadata": {},
   "outputs": [],
   "source": [
    "ref = 1\n",
    "G = mat[:, chns]\n",
    "N = [G[:, i] for i in 1:size(G, 2)]\n",
    "\n",
    "numpeaks = 4\n",
    "println(\"here\")\n",
    "reference_peaks = findpeaks(N[ref], 100:lastindex(N[ref]), numpeaks=numpeaks)\n",
    "println(\"there\")\n",
    "residuals = Float64[]\n",
    "l = scatter()\n",
    "for (i, chn) in enumerate(chns)\n",
    "    i == ref && continue\n",
    "    println(i)\n",
    "    peaks = findpeaks(N[i], 100:lastindex(N[i]), numpeaks=numpeaks)\n",
    "    @show shift, gain = leastsquares(peaks, reference_peaks)\n",
    "    @show res = reference_peaks .- (shift .+ gain.*peaks)\n",
    "    l = scatter!(res)\n",
    "end\n",
    "l\n",
    "#scatter(residuals)"
   ]
  },
  {
   "cell_type": "code",
   "execution_count": null,
   "metadata": {},
   "outputs": [],
   "source": [
    "1+1"
   ]
  },
  {
   "cell_type": "markdown",
   "metadata": {},
   "source": [
    "# Measure the amount of \"features\" in a spectrum\n",
    "- Use this to find the regions of the spectrum to use for local fitting.\n",
    "- I have found no solution to this"
   ]
  },
  {
   "cell_type": "code",
   "execution_count": null,
   "metadata": {},
   "outputs": [],
   "source": [
    "ref = 1\n",
    "G = mat[:, chns]\n",
    "N = [G[:, i] for i in 1:size(G, 2)];\n",
    "using PyCall\n",
    "signal = pyimport(\"scipy.signal\")"
   ]
  },
  {
   "cell_type": "code",
   "execution_count": null,
   "metadata": {},
   "outputs": [],
   "source": [
    "X = signal.savgol_filter(N[ref], 51, 3)[500:end]\n",
    "differentiate(x) = (x[1:end-1].-x[2:end])./(x[2]-x[1])\n",
    "X′ = signal.savgol_filter(differentiate(X), 51, 3)\n",
    "X′′ = signal.savgol_filter(differentiate(X′), 51, 3)\n",
    "smoothdiff(x, window=51) = signal.savgol_filter(differentiate(x), window, 3)\n",
    "function snratio(spectrum, numregions)\n",
    "    step = floor.(Int, length(spectrum)/numregions)\n",
    "    laststep = step+ length(spectrum) - numregions*step\n",
    "    Q = zeros(Float64, numregions)\n",
    "    D = spectrum |> smoothdiff |> smoothdiff\n",
    "    for i in 1:numregions-1\n",
    "        diff2 = D[((i-1)*step)+1:(i*step)]\n",
    "        Q[i] = sum(abs.(diff2))\n",
    "    end\n",
    "    Q[numregions] = sum(abs.(D[(numregions-1)*step+1:end]))\n",
    "    Q\n",
    "end\n",
    "plt0 = plot([X, X′, X′′], layout=3)\n",
    "#plt = plot(range(firstindex(X), lastindex(X), length=2), snratio(X, 2), seriestype=:steppre)\n",
    "#for i in 3:20\n",
    "#    plt = plot!(range(firstindex(X), lastindex(X), length=i), snratio(X, i), seriestype=:steppre)\n",
    "#end\n",
    "#plt = plot!(X, layout=2)\n",
    "\n",
    "#anim = @animate for i=2:50\n",
    "#    plot(range(firstindex(X), lastindex(X), length=i), snratio(X, i), ylims=(0, 50), c=:black, seriestype=:steppre)\n",
    "#    plot!(N[ref][500:end]./5)\n",
    "#end\n",
    "#\n",
    "#gif(anim, \"mygif.gif\", fps = 1)\n",
    "i = 10\n",
    "plot(range(firstindex(X), lastindex(X), length=i), snratio(X, i), ylims=(0, 50), c=:black, seriestype=:steppre)\n",
    "plot!(N[ref][500:end]./5)\n"
   ]
  },
  {
   "cell_type": "code",
   "execution_count": null,
   "metadata": {},
   "outputs": [],
   "source": [
    "plot(X)"
   ]
  },
  {
   "cell_type": "code",
   "execution_count": null,
   "metadata": {},
   "outputs": [],
   "source": [
    "plt = plot([N[1][1000:end], N[2][1000:end]])\n",
    "savefig(plt, \"martin.png\")"
   ]
  },
  {
   "cell_type": "code",
   "execution_count": null,
   "metadata": {},
   "outputs": [],
   "source": [
    "using PyCall\n",
    "signal = pyimport(\"scipy.signal\")\n",
    "smooth(x) = signal.savgol_filter(x, 31, 4)\n",
    "N = 100\n",
    "roi = 750:900\n",
    "target = M[20]\n",
    "ref = M[1][roi]\n",
    "smoothref = smooth(ref)\n",
    "points = zeros(Float64, (N, N))\n",
    "shifts = range(-50.0, 50.0, length=N)\n",
    "gains = range(0.90, 1.10, length=N)\n",
    "function χ²(target, ref)\n",
    "    S = @. (ref-target)^2/ref^2\n",
    "    sum(S[isfinite.(S)])\n",
    "end\n",
    "function errfn(x)\n",
    "    Z = gainshift(target, x...)\n",
    "    Z = smooth(Z)[roi]\n",
    "    χ²(Z, smoothref)\n",
    "end\n",
    "for i in 1:N, j in 1:N\n",
    "    points[i, j] = errfn([shifts[i], gains[j]])\n",
    "end"
   ]
  },
  {
   "cell_type": "code",
   "execution_count": null,
   "metadata": {},
   "outputs": [],
   "source": [
    "#using PyPlot\n",
    "\n",
    "#fig = figure()\n",
    "#ax = gca(projection=\"3d\")\n",
    "\n",
    "#plot3D(repeat(shifts, N), repeat(gains, 10), points)\n",
    "#Z = plot_surface(shifts, gains, points, alpha=0.9)\n",
    "#ax[:view_init](30, 180)\n",
    "#wireframe(shifts, gains, points, alpha=0.5, color=:viridis, stride=1)\n",
    "contour(shifts, gains, points, levels=100)"
   ]
  },
  {
   "cell_type": "code",
   "execution_count": null,
   "metadata": {},
   "outputs": [],
   "source": [
    "optim = pyimport(\"scipy.optimize\")\n",
    "guesses = []\n",
    "converg = []\n",
    "function cb(x; convergence=0.0)  push!(guesses, x); push!(converg, convergence) end\n",
    "res = optim.differential_evolution(errfn, ([-50, 50], [0.9, 1.1]), callback=cb)"
   ]
  },
  {
   "cell_type": "code",
   "execution_count": null,
   "metadata": {},
   "outputs": [],
   "source": [
    "Plots.plot(target[roi], seriestype=:steppre, alpha=0.5)\n",
    "shiftedx = gainshift(target, res[\"x\"]...)\n",
    "Plots.plot!(ref, seriestype=:steppre, alpha=0.5)\n",
    "Plots.plot!(shiftedx[roi], seriestype=:steppre, alpha=0.5)\n",
    "Plots.plot!(smooth(target)[roi], label=\"target, smooth\")\n",
    "Plots.plot!(smoothref, label=\"reference, smooth\")\n",
    "Plots.plot!(smooth(shiftedx)[roi], label=\"target shifted, smooth\")"
   ]
  },
  {
   "cell_type": "code",
   "execution_count": null,
   "metadata": {},
   "outputs": [],
   "source": [
    "length(guesses)"
   ]
  },
  {
   "cell_type": "code",
   "execution_count": null,
   "metadata": {},
   "outputs": [],
   "source": [
    "#using PyPlot\n",
    "\n",
    "#fig = figure()\n",
    "#ax = gca(projection=\"3d\")\n",
    "\n",
    "#plot3D(repeat(shifts, N), repeat(gains, 10), points)\n",
    "#Z = plot_surface(shifts, gains, points, alpha=0.5)\n",
    "gz = getz(guesses)\n",
    "gx, gy = collect(zip(guesses...))\n",
    "#ax.scatter(gx, gy, gz, color=:red)\n",
    "#ax.view_init(0, 90)\n",
    "contour(shifts, gains, points', levels=50)\n",
    "scatter!([x for x in gx], [y for y in gy], markerstrokewidth=0)"
   ]
  },
  {
   "cell_type": "code",
   "execution_count": null,
   "metadata": {},
   "outputs": [],
   "source": [
    "function getz(shiftgain)\n",
    "    gz = []\n",
    "    S = collect(shifts)\n",
    "    G = collect(gains)\n",
    "    for (shift, gain) in shiftgain\n",
    "        i = argmin(abs.(shift.-S))\n",
    "        j = argmin(abs.(gain.-G))\n",
    "        push!(gz, points[i, j])\n",
    "    end\n",
    "    [z for z in gz]\n",
    "end"
   ]
  },
  {
   "cell_type": "code",
   "execution_count": null,
   "metadata": {},
   "outputs": [],
   "source": [
    "using PyPlot\n",
    "np = pyimport(\"numpy\")\n",
    "X, Y = np.meshgrid(shifts, gains)\n",
    "fig = figure(figsize=(15, 15))\n",
    "ax = gca(projection=\"3d\")\n",
    "ax.plot_surface(X, Y, points', alpha=0.6, rstride=2, cmap=:viridis, cstride=1)\n",
    "ax.view_init(10, 150)\n",
    "ax.contour(X, Y, points', 50, linewidths=0.5, zdir=\"z\", offset=-4)\n",
    "ax.scatter(gx, gy, gz, color=:red)"
   ]
  },
  {
   "cell_type": "code",
   "execution_count": null,
   "metadata": {},
   "outputs": [],
   "source": [
    "using Interact"
   ]
  },
  {
   "cell_type": "code",
   "execution_count": null,
   "metadata": {},
   "outputs": [],
   "source": [
    "\n",
    "@manipulate for gain in gains, shift in shifts\n",
    "    Plots.plot(target[roi], seriestype=:steppre, alpha=0.5)\n",
    "    Plots.plot!(smoothref, label=\"reference, smooth\")\n",
    "    Plots.plot!(smooth(target)[roi], label=\"target, smooth\")\n",
    "    Plots.plot!(ref, seriestype=:steppre, alpha=0.5)\n",
    "    shiftedx = gainshift(target, shift, gain)\n",
    "    Plots.plot!(shiftedx[roi], seriestype=:steppre, alpha=0.5)\n",
    "    p1 = Plots.plot!(smooth(shiftedx)[roi], label=\"target shifted, smooth\", leg=false)\n",
    "    p2 = Plots.contour(shifts, gains, points', levels=50)\n",
    "    p2 = Plots.scatter!([shift], [gain])\n",
    "    l = @layout [a;b]\n",
    "    plot(p1, p2, layout=l)\n",
    "end"
   ]
  },
  {
   "cell_type": "code",
   "execution_count": null,
   "metadata": {},
   "outputs": [],
   "source": [
    "res[\"x\"]"
   ]
  },
  {
   "cell_type": "markdown",
   "metadata": {},
   "source": [
    "# Putting it all together "
   ]
  },
  {
   "cell_type": "code",
   "execution_count": null,
   "metadata": {
    "init_cell": true
   },
   "outputs": [
    {
     "data": {
      "text/plain": [
       "2000-element Array{Int64,1}:\n",
       "  0\n",
       "  0\n",
       "  0\n",
       "  0\n",
       "  0\n",
       "  0\n",
       "  0\n",
       "  0\n",
       "  0\n",
       "  0\n",
       "  0\n",
       "  0\n",
       "  0\n",
       "  ⋮\n",
       "  6\n",
       " 17\n",
       " 24\n",
       " 12\n",
       " 19\n",
       " 15\n",
       " 13\n",
       " 11\n",
       " 22\n",
       " 20\n",
       " 18\n",
       " 18"
      ]
     },
     "execution_count": null,
     "metadata": {},
     "output_type": "execute_result"
    }
   ],
   "source": [
    "# Load the preprocessed data\n",
    "events = loadlabr(\"sirius\");\n",
    "parameters = Parameters(\"si28.yaml\");\n",
    "\n",
    "# Sort the datafile\n",
    "ge, gt = makelabr(events, parameters);\n",
    "mat = copy(ge.matrix);\n",
    "\n",
    "# Find the good channels\n",
    "chns = goodchannels(mat);\n",
    "G = mat[:, chns];\n",
    "M = [G[:, i] for i in 1:size(G, 2)];\n",
    "pop!(M);"
   ]
  },
  {
   "cell_type": "code",
   "execution_count": null,
   "metadata": {
    "init_cell": true
   },
   "outputs": [
    {
     "data": {
      "text/plain": [
       "log10transform (generic function with 1 method)"
      ]
     },
     "execution_count": null,
     "metadata": {},
     "output_type": "execute_result"
    }
   ],
   "source": [
    "function plotmat(matrix)\n",
    "    G = convert(Array{Float64, 2}, matrix)\n",
    "    log10transform!(G)\n",
    "    pl = heatmap(G', c=:viridis, yticks=([1:length(chns);], chns))\n",
    "end\n",
    "\n",
    "function plotstrip(strips)\n",
    "    G = hcat(strips...)\n",
    "    G = convert(Array{Float64, 2}, G)\n",
    "    log10transform!(G)\n",
    "    pl = heatmap(G', c=:viridis)\n",
    "end\n",
    "\n",
    "function log10transform!(G)\n",
    "    G[G .> 0] .= log10.(G[G .> 0])\n",
    "    G[G .≤ 0] .= NaN\n",
    "end\n",
    "\n",
    "function log10transform(V)\n",
    "    G = V[1:end]\n",
    "    G[G .> 0] .= log10.(G[G .> 0])\n",
    "    G[G .≤ 0] .= NaN\n",
    "    G\n",
    "end\n"
   ]
  },
  {
   "cell_type": "code",
   "execution_count": null,
   "metadata": {},
   "outputs": [],
   "source": [
    "points = localalign(M[13], M[1], [150:1800;])"
   ]
  },
  {
   "cell_type": "code",
   "execution_count": null,
   "metadata": {},
   "outputs": [],
   "source": [
    "plt = plotstrip(M[[1,10]])\n",
    "@show points\n",
    "for _points in points\n",
    "    plt = scatter!(_points, [1,2],markershape=:dtriangle, markercolor=:red, \n",
    "        markerstrokewidth=0, legend=false)\n",
    "end\n",
    "plt"
   ]
  },
  {
   "cell_type": "code",
   "execution_count": null,
   "metadata": {},
   "outputs": [],
   "source": [
    "refpeaks, targetpeaks = collect(zip(points...)) .|> collect\n",
    "@show refpeaks\n",
    "@show shift, gain, gain² = leastsquares(targetpeaks, refpeaks; order=:quadratic)\n",
    "M′ = gainshift(M[10], shift, gain, gain²)\n",
    "plotstrip((M[1], M′))"
   ]
  },
  {
   "cell_type": "code",
   "execution_count": null,
   "metadata": {},
   "outputs": [],
   "source": [
    "ref = 1\n",
    "corrected = [M[ref]]\n",
    "allpoints = []\n",
    "shiftgains = []\n",
    "for i in eachindex(M)\n",
    "    println(\"Working on channel $i\")\n",
    "    i == ref && continue\n",
    "    points = localalign(M[i], M[ref], [80:1900;]; numregions=10)\n",
    "    push!(allpoints, points)\n",
    "    refpeaks, targetpeaks = zip(points...) |> collect .|> collect\n",
    "    shift, gain, gain² = leastsquares(targetpeaks, refpeaks; order=:quadratic)\n",
    "    push!(shiftgains, [shift, gain, gain²])\n",
    "    push!(corrected, gainshift(M[i], shift, gain, gain²))\n",
    "    println(\"Done working on channel $i\")\n",
    "end"
   ]
  },
  {
   "cell_type": "code",
   "execution_count": null,
   "metadata": {},
   "outputs": [],
   "source": [
    "plt = plotstrip(M)\n",
    "for (i, _points) in enumerate(allpoints)\n",
    "    plt = scatter!(_points, [1, i],markershape=:dtriangle, markercolor=:red, \n",
    "        markerstrokewidth=0, legend=false)#, size=(1000, 1000))\n",
    "end\n",
    "cor = plotstrip(corrected)\n",
    "display(plt)\n",
    "display(cor)"
   ]
  },
  {
   "cell_type": "code",
   "execution_count": null,
   "metadata": {},
   "outputs": [],
   "source": [
    "plt = plotstrip(corrected)\n",
    "signal = pyimport(\"scipy.signal\")\n",
    "for (i, c) in enumerate(corrected[1:end-1])\n",
    "    for region in ([60:500;], [500:1000;], [1100:1300;], [1450:1600;])\n",
    "        peaks = findpeaks(c[1], region, numpeaks=1)\n",
    "        if i > 1\n",
    "            corr = signal.correlate(c[1][region], c[region])\n",
    "            shift = length(region) - argmax(corr)\n",
    "            peaks1 = peaks .+ shift\n",
    "        plot!(peaks1, fill(i, length(peaks1)), markershape=:dtriangle, markercolor=:red, \n",
    "              legend=false, markerstrokewidth=0)\n",
    "        else\n",
    "        plot!(peaks, fill(i, length(peaks)), markershape=:dtriangle, markercolor=:red, \n",
    "              legend=false, markerstrokewidth=0)\n",
    "        end\n",
    "        \n",
    "    end\n",
    "end\n",
    "plt"
   ]
  },
  {
   "cell_type": "code",
   "execution_count": null,
   "metadata": {},
   "outputs": [],
   "source": [
    "points1 = []\n",
    "shiftgains = []\n",
    "for (i, c) in enumerate(corrected)\n",
    "    println(\"Working on channel $i\")\n",
    "    i == ref && continue\n",
    "    points = localalign(c, corrected[ref], [1300:1900;]; numregions=2)\n",
    "    refpeaks, targetpeaks = zip(points...) |> collect .|> collect\n",
    "    push!(points1, targetpeaks)\n",
    "    if length(targetpeaks) < 2\n",
    "        continue\n",
    "    end\n",
    "    push!(shiftgains, leastsquares(targetpeaks, refpeaks; order=:quadratic))\n",
    "    println(\"Done working on channel $i\")\n",
    "end\n"
   ]
  },
  {
   "cell_type": "code",
   "execution_count": null,
   "metadata": {},
   "outputs": [],
   "source": [
    "plt = plotstrip(corrected)\n",
    "for (i, p) in enumerate(points1)\n",
    "    plt = plot!(p, fill(i, length(p)), markershape=:dtriangle,\n",
    "                markercolor=:red, legend=false, markerstrokewidth=0,\n",
    "                size=(1000, 1000))\n",
    "end\n",
    "    \n",
    "plt"
   ]
  },
  {
   "cell_type": "code",
   "execution_count": null,
   "metadata": {},
   "outputs": [],
   "source": [
    "plt = plotstrip(M)\n",
    "for (i, (start, stop)) in enumerate(splitregion(80:1900, 10) .|> x -> x .+ 80)\n",
    "    for j in eachindex(M)\n",
    "        plt = plot!([start, stop], [j, j], legend=false, color=i)\n",
    "    end\n",
    "end\n",
    "plt"
   ]
  },
  {
   "cell_type": "markdown",
   "metadata": {},
   "source": [
    "### Trying feature shift\n",
    "\n",
    "The $\\chi^2$ feature minimization works better than cross correlation. I don't know why.\n",
    "Use it as a starting point for local minimization.\n",
    "\n",
    "What about an iterative feature match? Once a region is matched, it can be split into subregions for more matching and hence more points.\n",
    "\n",
    "How are points selected from a region? Peak? How large should a peak-from-region-region be?\n",
    "Peak might be unstable by same reasons as before. \"inverse\"-peak selection? Midpoint?\n",
    "\n",
    "A weakness of these methods is that the shift is always an integer, while in reality\n",
    "it is a real number.\n",
    "\n",
    "The feature align works very well _when_ it works. Sometimes there is another minima which\n",
    "by chance is smaller. Restrict comparison to a window? Punish large shifts?"
   ]
  },
  {
   "cell_type": "code",
   "execution_count": null,
   "metadata": {},
   "outputs": [],
   "source": [
    "function featurematch(reference, feature)\n",
    "    lref = reference #log10.(ref)\n",
    "    lfeat = feature #log10.(target)\n",
    "    window = 1:length(feature)\n",
    "    errors = zeros(length(lref) - length(feature))\n",
    "    for shift in 1:(length(lref) - length(feature))\n",
    "        diff = (feature - lref[window.+shift]).^2\n",
    "        errors[shift] = sum(diff)\n",
    "    end\n",
    "    errors\n",
    "end\n",
    "region = 700:900\n",
    "feature = M[1][region]\n",
    "shifted = []\n",
    "for i in eachindex(M)\n",
    "    # corr = signal.correlate(feature, M[i])\n",
    "    corr = DSP.xcorr(feature, M[i])\n",
    "    shift_cor = length(corr)/2 - argmax(corr) |> x -> round(Int64, x)\n",
    "    #@show length(corr)\n",
    "    #cor = plot!(corr .|> log10)\n",
    "    feat = featurematch(M[i], feature) \n",
    "    index_feat = argmin(feat)\n",
    "    #plt = plot!(feat .|> log10)\n",
    "    shiftplt = plot(region, feature, label=\"Reference\", seriestype=:steppre)\n",
    "    shiftplt = plot!(region, M[i][region], label=\"Candidate\", seriestype=:steppre)\n",
    "    shiftplt = plot!(region, M[i][region .- shift_cor], \n",
    "                     label=\"Correlation shift\", seriestype=:steppre)\n",
    "    feat_region = M[i][range(index_feat+1, length=length(region))]\n",
    "    shiftplt = plot!(region, feat_region,\n",
    "                     label=\"χ² shift\", seriestype=:steppre)\n",
    "    push!(shifted, shiftplt)\n",
    "end\n",
    "feature = plot(region, feature)\n",
    "(feature, shifted...) .|> display"
   ]
  },
  {
   "cell_type": "code",
   "execution_count": null,
   "metadata": {
    "init_cell": true
   },
   "outputs": [
    {
     "data": {
      "text/plain": [
       "plotpeaks! (generic function with 1 method)"
      ]
     },
     "execution_count": null,
     "metadata": {},
     "output_type": "execute_result"
    }
   ],
   "source": [
    "plotpeaks!(peaks, i) = scatter!(peaks, fill(i, length(peaks)), markershape=:dtriangle, markercolor=:red, \n",
    "              legend=false, markerstrokewidth=0)"
   ]
  },
  {
   "cell_type": "code",
   "execution_count": null,
   "metadata": {},
   "outputs": [],
   "source": [
    "signal = pyimport(\"scipy.signal\")\n",
    "smoother(x) = signal.savgol_filter(x, 51, 4)\n",
    "plt = plotstrip(M)\n",
    "ref = 1\n",
    "coeffs = []\n",
    "corrected = [M[ref]]\n",
    "allpeaks = []\n",
    "for i in eachindex(M)\n",
    "    refpeaks, targetpeaks = featurealign(M[ref], M[i], width=250, searchwidth=50,\n",
    "                                         roi = 3:1400)\n",
    "    refpeaks_, targetpeaks_ = featurealign(M[ref], M[i], width=120, searchwidth=500,\n",
    "                                           roi = 1350:1800, smoother=smoother,\n",
    "                                           numregions=2)\n",
    "    push!(refpeaks, refpeaks_...)\n",
    "    push!(targetpeaks, targetpeaks_...)\n",
    "    push!(allpeaks, [refpeaks, targetpeaks])\n",
    "    plt = plotpeaks!(targetpeaks, i)\n",
    "    i == ref && continue\n",
    "    shiftgain = leastsquares(targetpeaks, refpeaks; order=2)\n",
    "    push!(coeffs, shiftgain)\n",
    "    push!(corrected, gainshift(M[i], shiftgain...))\n",
    "end\n",
    "cor = plotstrip(corrected)\n",
    "display(plt)\n",
    "display(cor)\n",
    "#savefig(plt, \"/home/erdos/peaks.png\")\n",
    "#savefig(cor, \"/home/erdos/quadratic_align.png\")\n",
    "coeffs"
   ]
  },
  {
   "cell_type": "code",
   "execution_count": null,
   "metadata": {},
   "outputs": [],
   "source": [
    "signal = pyimport(\"scipy.signal\")\n",
    "smoother(x) = signal.savgol_filter(x, 51, 4)\n",
    "coefficients, alignedspectra = alignspectra(M, lowregion=3:1400, highregion=1350:1800,\n",
    "                                            highsmoother=smoother)\n",
    "coefficients, alignedspectra = alignspectra(alignedspectra, lowregion=3:1400, \n",
    "                                            highregion=1350:1800, lowsearchwidth=10,\n",
    "                                            highsearchwidth = 10, lownumregions=15,\n",
    "                                            highsmoother=smoother)\n",
    "\n",
    "plotstrip(alignedspectra)"
   ]
  },
  {
   "cell_type": "code",
   "execution_count": null,
   "metadata": {},
   "outputs": [],
   "source": [
    "total = sum(alignedspectra)\n",
    "plt = plot(xlim=(1500, 2000), ylim=(0, 100))\n",
    "for spectrum in alignedspectra\n",
    "    plt = plot!(spectrum)\n",
    "end\n",
    "display(plt)\n",
    "plot(total)"
   ]
  },
  {
   "cell_type": "code",
   "execution_count": null,
   "metadata": {},
   "outputs": [],
   "source": [
    "residuals = []\n",
    "for ((ref, tar), coeffs) in zip(allpeaks, coeffs)\n",
    "    f(x) = [x^(i-1)*coeffs[i] for i in eachindex(coeffs)] |> sum\n",
    "    r̂ = f.(tar)\n",
    "    push!(residuals, ref - r̂)\n",
    "end\n",
    "resplt = plot(size=(1000, 800))\n",
    "for residual in residuals\n",
    "    resplt = plot!(residual, marker=:o,  markerstrokewidth=0, legend=false,\n",
    "                   color=:steelblue, xlabel=\"Energy [arbitrary unit]\",\n",
    "                   ylabel=\"Difference (fact - predicted) [arbitrary unit]\",\n",
    "                   title=\"Residuals of third degree fit\")\n",
    "end\n",
    "savefig(resplt, \"/home/erdos/third_degree_residuals.png\")\n",
    "resplt"
   ]
  },
  {
   "cell_type": "code",
   "execution_count": null,
   "metadata": {},
   "outputs": [],
   "source": [
    "?save"
   ]
  },
  {
   "cell_type": "markdown",
   "metadata": {},
   "source": [
    "### Trying correlation shift"
   ]
  },
  {
   "cell_type": "code",
   "execution_count": null,
   "metadata": {},
   "outputs": [],
   "source": [
    "roi = 400:600\n",
    "A, B = M[1][roi], M[3][roi]\n",
    "plot(roi, A, seriestype=:steppre)\n",
    "plt = plot!(roi, B, seriestype=:steppre)\n",
    "\n",
    "signal = pyimport(\"scipy.signal\")\n",
    "corr = signal.correlate(A, B)\n",
    "@show shift = length(roi) - argmax(corr)\n",
    "plt = plot!(roi, gainshift(M[3],-shift, 1.0)[roi], seriestype=:steppre)\n",
    "cor = plot(corr)\n",
    "#cor = plot!(argmax(corr), corr[argmax(corr)])\n",
    "display(cor)\n",
    "display(plt)"
   ]
  },
  {
   "cell_type": "code",
   "execution_count": null,
   "metadata": {},
   "outputs": [],
   "source": []
  },
  {
   "cell_type": "markdown",
   "metadata": {},
   "source": [
    "## TODO\n",
    "- [ ] Correct the alignment\n",
    "  - Think harder\n",
    "  - Looks like there is some non-linearity even at high zoom levels.\n",
    "    Might have to use a linear term\n",
    "  - If the constant-shift hypothesis holds, try to use cross-correlation instead\n",
    "  - I __need__ features in order to align. Use all of the highest peaks in the\n",
    "    reference spectrum and hope it holds?\n",
    "  - I might have the trade off (negligible higher orders <> weaker features)\n",
    "  - Use aggressive smoothing in low-data regions?\n",
    "  - Do a second pass with narrower window around the most prominent features?\n",
    "  - Either combines polynomials for latter use, or use these points for the\n",
    "    actual calibration.\n",
    "  - For high-data regions I can just use peakfinding. Use current\n",
    "    shift-method for medium-data zones, while for low data zones I need some other\n",
    "    method. Aggressive gain-shift?\n",
    "      - Peakfinding only works once the data is already a bit aligned, dumb dumb.\n",
    "  - Use very small windows after an initial alignment to catch the peaks?\n",
    "  - The steps seems to be\n",
    "    - [x] Align the data ok-ish\n",
    "    - [ ] Catch the peaks/ Make the peaks catchable\n",
    "    - [ ] Final alignment\n",
    "- Do I only want alignment, or do I want a _pure_ quadratic alignment? Less work if I\n",
    "  just do an alignment and assume that it can be arbitrarily approximated by a quadratic by           \n",
    "  iteration and composition."
   ]
  },
  {
   "cell_type": "code",
   "execution_count": null,
   "metadata": {},
   "outputs": [],
   "source": [
    "using PyCall\n",
    "signal = pyimport(\"scipy.signal\")"
   ]
  },
  {
   "cell_type": "code",
   "execution_count": null,
   "metadata": {},
   "outputs": [],
   "source": [
    "p = plot()\n",
    "for c in corrected[1:end-1]\n",
    "    p = plot!(signal.savgol_filter(c, 91, 5)[1800:end])\n",
    "end\n",
    "p"
   ]
  },
  {
   "cell_type": "code",
   "execution_count": null,
   "metadata": {},
   "outputs": [],
   "source": []
  }
 ],
 "metadata": {
  "@webio": {
   "lastCommId": null,
   "lastKernelId": null
  },
  "kernelspec": {
   "display_name": "Julia 1.2.0",
   "language": "julia",
   "name": "julia-1.2"
  },
  "language_info": {
   "file_extension": ".jl",
   "mimetype": "application/julia",
   "name": "julia",
   "version": "1.2.0"
  },
  "varInspector": {
   "cols": {
    "lenName": 16,
    "lenType": 16,
    "lenVar": 40
   },
   "kernels_config": {
    "python": {
     "delete_cmd_postfix": "",
     "delete_cmd_prefix": "del ",
     "library": "var_list.py",
     "varRefreshCmd": "print(var_dic_list())"
    },
    "r": {
     "delete_cmd_postfix": ") ",
     "delete_cmd_prefix": "rm(",
     "library": "var_list.r",
     "varRefreshCmd": "cat(var_dic_list()) "
    }
   },
   "types_to_exclude": [
    "module",
    "function",
    "builtin_function_or_method",
    "instance",
    "_Feature"
   ],
   "window_display": false
  }
 },
 "nbformat": 4,
 "nbformat_minor": 2
}
